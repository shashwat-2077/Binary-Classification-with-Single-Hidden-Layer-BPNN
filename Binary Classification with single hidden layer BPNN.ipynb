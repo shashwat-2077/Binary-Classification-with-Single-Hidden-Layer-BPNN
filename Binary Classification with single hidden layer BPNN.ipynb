{
 "cells": [
  {
   "cell_type": "code",
   "execution_count": null,
   "id": "863dd9a3",
   "metadata": {},
   "outputs": [],
   "source": [
    "import numpy as np\n",
    "from sklearn.model_selection import train_test_split"
   ]
  },
  {
   "cell_type": "code",
   "execution_count": null,
   "id": "5cd8bf90",
   "metadata": {},
   "outputs": [],
   "source": [
    "data = np.genfromtxt('raw_data.txt', delimiter = ',')\n",
    "X = data[:,:4]\n",
    "y = data[:, 4]\n",
    "print(X)\n",
    "print(y)"
   ]
  },
  {
   "cell_type": "code",
   "execution_count": null,
   "id": "b65e7628",
   "metadata": {},
   "outputs": [],
   "source": [
    "X_train, X_test, y_train, y_test = train_test_split(X, y, test_size=0.2, random_state=42)\n",
    "X_train = X_train.T\n",
    "y_train = y_train.reshape(1, y_train.shape[0])\n",
    "X_test = X_test.T\n",
    "y_test = y_test.reshape(1, y_test.shape[0])\n",
    "print ('Train X Shape: ', X_train.shape)\n",
    "print ('Train Y Shape: ', y_train.shape)\n",
    "print ('I have m = %d training examples!' % (X_train.shape[1]))\n",
    "\n",
    "print ('\\nTest X Shape: ', X_test.shape)"
   ]
  },
  {
   "cell_type": "code",
   "execution_count": null,
   "id": "db55c43c",
   "metadata": {},
   "outputs": [],
   "source": [
    "def define_structure(X, Y):\n",
    "    input_unit = X.shape[0] # size of input layer\n",
    "    hidden_unit = 1 #hidden layer of size 4\n",
    "    output_unit = Y.shape[0] # size of output layer\n",
    "    return (input_unit, hidden_unit, output_unit)\n",
    "(input_unit, hidden_unit, output_unit) = define_structure(X_train, y_train)\n",
    "print(\"The size of the input layer is:  = \" + str(input_unit))\n",
    "print(\"The size of the hidden layer is:  = \" + str(hidden_unit))\n",
    "print(\"The size of the output layer is:  = \" + str(output_unit))"
   ]
  },
  {
   "cell_type": "code",
   "execution_count": null,
   "id": "5a147d72",
   "metadata": {},
   "outputs": [],
   "source": [
    "def parameters_initialization(input_unit, hidden_unit, output_unit):\n",
    "    np.random.seed(2) \n",
    "    weight1 = np.random.randn(hidden_unit, input_unit)*0.01\n",
    "    bias1 = np.zeros((hidden_unit, 1))\n",
    "    weight2 = np.random.randn(output_unit, hidden_unit)*0.01\n",
    "    bias2 = np.zeros((output_unit, 1))\n",
    "    parameters = {\"W1\": weight1,\n",
    "                  \"b1\": bias1,\n",
    "                  \"W2\": weight2,\n",
    "                  \"b2\": bias2}\n",
    "    \n",
    "    return parameters"
   ]
  },
  {
   "cell_type": "code",
   "execution_count": null,
   "id": "adfc3cfd",
   "metadata": {},
   "outputs": [],
   "source": [
    "def sigmoid(z):\n",
    "    return 1/(1+np.exp(-z))\n",
    "def forward_propagation(X, parameters):\n",
    "    weight1 = parameters['W1']\n",
    "    bias1 = parameters['b1']\n",
    "    weight2 = parameters['W2']\n",
    "    bias2 = parameters['b2']\n",
    "    netInput1 = np.dot(weight1, X) + bias1\n",
    "    output1 = np.tanh(netInput1)\n",
    "    netInput2 = np.dot(weight2, output1) + bias2\n",
    "    output2 = sigmoid(netInput2)\n",
    "    cache = {\"Z1\": netInput1,\"Y1\": output1,\"Z2\": netInput2,\"Y2\": output2}\n",
    "    \n",
    "    return output2, cache"
   ]
  },
  {
   "cell_type": "code",
   "execution_count": null,
   "id": "f0e7e9e6",
   "metadata": {},
   "outputs": [],
   "source": [
    "def delta(calculatedOutput, targetOutput, parameters):\n",
    "    # number of training example\n",
    "    m = targetOutput.shape[1] \n",
    "    # Compute the cross-entropy cost\n",
    "    logprobs = np.multiply(np.log(calculatedOutput), targetOutput) + np.multiply((1-targetOutput), np.log(1 - calculatedOutput))\n",
    "    error = - np.sum(logprobs) / m\n",
    "    error = float(np.squeeze(error))\n",
    "                                    \n",
    "    return error"
   ]
  },
  {
   "cell_type": "code",
   "execution_count": null,
   "id": "321dd472",
   "metadata": {},
   "outputs": [],
   "source": [
    "def backward_propagation(parameters, cache, X, Y):\n",
    "    #number of training example\n",
    "    m = X.shape[1]\n",
    "    \n",
    "    weight1 = parameters['W1']\n",
    "    weight2 = parameters['W2']\n",
    "    output1 = cache['Y1']\n",
    "    output2 = cache['Y2']\n",
    "   \n",
    "    deltaZ2 = output2-Y\n",
    "    deltaW2 = (1/m) * np.dot(deltaZ2, output1.T)\n",
    "    deltab2 = (1/m) * np.sum(deltaZ2, axis=1, keepdims=True)\n",
    "    deltaZ1 = np.multiply(np.dot(weight2.T, deltaZ2), 1 - np.power(output1, 2))\n",
    "    deltaW1 = (1/m) * np.dot(deltaZ1, X.T) \n",
    "    deltab1 = (1/m)*np.sum(deltaZ1, axis=1, keepdims=True)\n",
    "    \n",
    "    grads = {\"dW1\": deltaW1, \"db1\": deltab1, \"dW2\": deltaW2,\"db2\": deltab2}\n",
    "    \n",
    "    return grads"
   ]
  },
  {
   "cell_type": "code",
   "execution_count": null,
   "id": "d93f1bb6",
   "metadata": {},
   "outputs": [],
   "source": [
    "def updated_parameters(parameters, grads, learning_rate = 0.01):\n",
    "    weight1 = parameters['W1']\n",
    "    bias1 = parameters['b1']\n",
    "    weight2 = parameters['W2']\n",
    "    bias2 = parameters['b2']\n",
    "   \n",
    "    deltaW1 = grads['dW1']\n",
    "    deltab1 = grads['db1']\n",
    "    deltaW2 = grads['dW2']\n",
    "    deltab2 = grads['db2']\n",
    "\n",
    "    weight1 = weight1 - learning_rate * deltaW1\n",
    "    bias1 = bias1 - learning_rate * deltab1\n",
    "    weight2 = weight2 - learning_rate * deltaW2\n",
    "    bias2 = bias2 - learning_rate * deltab2\n",
    "    \n",
    "    parameters = {\"W1\": weight1, \"b1\": bias1,\"W2\": weight2,\"b2\": bias2}\n",
    "    \n",
    "    return parameters"
   ]
  },
  {
   "cell_type": "code",
   "execution_count": null,
   "id": "2d1c111f",
   "metadata": {
    "scrolled": true
   },
   "outputs": [],
   "source": [
    "def neural_network_model(X, Y, hidden_unit, num_iterations = 10000):\n",
    "    np.random.seed(3)\n",
    "    input_unit = define_structure(X, Y)[0]\n",
    "    output_unit = define_structure(X, Y)[2]\n",
    "    \n",
    "    parameters = parameters_initialization(input_unit, hidden_unit, output_unit)\n",
    "   \n",
    "    weight1 = parameters['W1']\n",
    "    bias1 = parameters['b1']\n",
    "    weight2 = parameters['W2']\n",
    "    bias2 = parameters['b2']\n",
    "    \n",
    "    for i in range(0, num_iterations):\n",
    "        output, cache = forward_propagation(X, parameters)\n",
    "        error = delta(output, Y, parameters)\n",
    "        grads = backward_propagation(parameters, cache, X, Y)\n",
    "        parameters = updated_parameters(parameters, grads)\n",
    "        if i % 100 == 0:\n",
    "            print (\"Loss after iteration %i: %f\" %(i, error))\n",
    "    return parameters\n",
    "parameters = neural_network_model(X_train, y_train, 1, num_iterations=10000)"
   ]
  },
  {
   "cell_type": "code",
   "execution_count": null,
   "id": "50c8c28a",
   "metadata": {},
   "outputs": [],
   "source": [
    "def prediction(parameters, X):\n",
    "    output, cache = forward_propagation(X, parameters)\n",
    "    predictions = np.round(output)\n",
    "    \n",
    "    return predictions"
   ]
  },
  {
   "cell_type": "code",
   "execution_count": null,
   "id": "e417eb98",
   "metadata": {},
   "outputs": [],
   "source": [
    "predictions = prediction(parameters, X_train)\n",
    "print ('Accuracy Train: %d' % float((np.dot(y_train, predictions.T) + np.dot(1 - y_train, 1 - predictions.T))/float(y_train.size)*100) + '%')\n",
    "predictions = prediction(parameters, X_test)\n",
    "print ('Accuracy Test: %d' % float((np.dot(y_test, predictions.T) + np.dot(1 - y_test, 1 - predictions.T))/float(y_test.size)*100) + '%')"
   ]
  },
  {
   "cell_type": "code",
   "execution_count": null,
   "id": "9089be68",
   "metadata": {},
   "outputs": [],
   "source": [
    "new_values1 = [3.6216, 8.6661, -2.8073, -0.44699]\n",
    "new_values2 = [0.066129,2.4914,-2.9401,-0.62156]\n",
    "\n",
    "new_prediction1 = prediction(parameters, new_values1)\n",
    "new_prediction2 = prediction(parameters, new_values2)\n",
    "print(new_prediction1)\n",
    "print(new_prediction2)"
   ]
  },
  {
   "cell_type": "code",
   "execution_count": null,
   "id": "b7f763ea",
   "metadata": {},
   "outputs": [],
   "source": []
  }
 ],
 "metadata": {
  "kernelspec": {
   "display_name": "Python 3 (ipykernel)",
   "language": "python",
   "name": "python3"
  },
  "language_info": {
   "codemirror_mode": {
    "name": "ipython",
    "version": 3
   },
   "file_extension": ".py",
   "mimetype": "text/x-python",
   "name": "python",
   "nbconvert_exporter": "python",
   "pygments_lexer": "ipython3",
   "version": "3.10.5"
  }
 },
 "nbformat": 4,
 "nbformat_minor": 5
}
